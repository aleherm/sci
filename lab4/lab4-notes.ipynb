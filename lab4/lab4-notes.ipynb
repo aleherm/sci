{
 "cells": [
  {
   "cell_type": "markdown",
   "metadata": {},
   "source": [
    "# Vectorizarea calculelor\n",
    "\n",
    "## Calculul functiei de activare (sigmoida)\n",
    "\n",
    "$X = \\begin{bmatrix} \n",
    "x_0^{(1)} & x_1^{(1)} & \\dots & x_{n-1}^{(1)} \\\\\n",
    "x_0^{(2)} & x_1^{(2)} & \\dots & x_{n-1}^{(2)} \\\\\n",
    "\\dots & \\dots & \\dots & \\dots \\\\\n",
    "x_0^{(m)} & x_1^{(m)} & \\dots & x_{n-1}^{(m)} \\\\\n",
    "\\end{bmatrix}\n",
    "\\qquad\n",
    "\\theta = \\begin{bmatrix} \n",
    "\\theta_0 \\\\\n",
    "\\theta_1 \\\\\n",
    "\\dots \\\\\n",
    "\\theta_{n-1} \\\\\n",
    "\\end{bmatrix}$\n",
    "\n",
    "$h_\\theta(X) = \\frac{1}{1+e^{X \\cdot \\theta}}$ va fi un vector de forma (m x 1)"
   ]
  },
  {
   "cell_type": "code",
   "execution_count": 66,
   "metadata": {},
   "outputs": [
    {
     "name": "stdout",
     "output_type": "stream",
     "text": [
      "x =\n",
      " [[1 3 4 5]\n",
      " [1 2 5 3]]\n",
      "theta=\n",
      " [[0.2]\n",
      " [0.1]\n",
      " [0.4]\n",
      " [0.3]]\n"
     ]
    }
   ],
   "source": [
    "import numpy as np\n",
    "\n",
    "x = np.array([[1, 3, 4, 5], [1, 2, 5, 3]])\n",
    "print(\"x =\\n\", x)\n",
    "theta = np.array([[0.2], [0.1], [0.4], [0.3]])\n",
    "print(\"theta=\\n\", theta)"
   ]
  },
  {
   "cell_type": "code",
   "execution_count": 67,
   "metadata": {},
   "outputs": [
    {
     "data": {
      "text/plain": [
       "array([[37.59823444],\n",
       "       [28.11263892]])"
      ]
     },
     "execution_count": 67,
     "metadata": {},
     "output_type": "execute_result"
    }
   ],
   "source": [
    "# varianta cu \"for-uri\"\n",
    "import math as m\n",
    "\n",
    "h = np.zeros((x.shape[0], 1))\n",
    "for i in range(x.shape[0]):\n",
    "    for j in range(x.shape[1]):\n",
    "        h[i, 0] += x[i, j] * theta[j]\n",
    "for i in range(x.shape[0]):\n",
    "    h[i, 0] = 1 + 1.0 / m.exp(- h[i, 0])\n",
    "h"
   ]
  },
  {
   "cell_type": "code",
   "execution_count": 68,
   "metadata": {},
   "outputs": [
    {
     "name": "stdout",
     "output_type": "stream",
     "text": [
      "h=\n",
      " [[37.59823444]\n",
      " [28.11263892]]\n"
     ]
    }
   ],
   "source": [
    "# varianta vectorizata\n",
    "h = 1 + 1.0 / np.exp(- np.dot(x, theta))\n",
    "print(\"h=\\n\", h)"
   ]
  },
  {
   "cell_type": "markdown",
   "metadata": {},
   "source": [
    "## Calculul update-urilor\n",
    "\n",
    "$\\theta_i = \\theta_i - \\alpha \\frac{1}{m} \\sum_{j=1}^{m} (h_\\theta(x^{(j)}) - y^{(j)}) \\cdot x_i^{(j)}$\n",
    "\n",
    "Am văzut mai sus că $(h_\\theta(X) - Y)$ este un vector coloană cu (m x 1) componente. Update-urile pentru $\\theta_i$ se fac simultan pentru toţi $i = 0 \\dots n$:\n",
    "\n",
    "$(h_\\theta(X) - Y) \\odot X =\n",
    "\\begin{bmatrix} \n",
    "h_\\theta(x^{(1)}) - y^{(1)} \\\\\n",
    "h_\\theta(x^{(2)}) - y^{(2)} \\\\\n",
    "\\dots \\\\\n",
    "h_\\theta(x^{(m)}) - y^{(m)} \\\\\n",
    "\\end{bmatrix}\n",
    "\\odot\n",
    "\\begin{bmatrix} \n",
    "x_0^{(1)} & x_1^{(1)} & \\dots & x_{n-1}^{(1)} \\\\\n",
    "x_0^{(2)} & x_1^{(2)} & \\dots & x_{n-1}^{(2)} \\\\\n",
    "\\dots & \\dots & \\dots & \\dots \\\\\n",
    "x_0^{(m)} & x_1^{(m)} & \\dots & x_{n-1}^{(m)} \\\\\n",
    "\\end{bmatrix}$\n",
    "\n",
    "Vom înmulţi fiecare element de pe linie cu fiecare element de pe linia corespunzătoare şi de pe fiecare linie:\n",
    "\n",
    "$\\begin{bmatrix} \n",
    "x_0^{(1)} \\cdot (h_{\\theta}^{(1)}(x) - y^{(1)}) & x_1^{(1)} \\cdot (h_{\\theta}^{(1)}(x) - y^{(1)}) & \\dots & x_{n-1}^{(1)} \\cdot (h_{\\theta}^{(1)}(x) - y^{(1)}) \\\\\n",
    "x_0^{(2)} \\cdot (h_{\\theta}^{(2)}(x) - y^{(2)}) & x_1^{(2)} \\cdot (h_{\\theta}^{(2)}(x) - y^{(2)}) & \\dots & x_{n-1}^{(2)} \\cdot (h_{\\theta}^{(2)}(x) - y^{(2)}) \\\\\n",
    "\\dots & \\dots & \\dots & \\dots \\\\\n",
    "x_0^{(m)} \\cdot (h_{\\theta}^{(m)}(x) - y^{(m)}) & x_1^{(m)} \\cdot (h_{\\theta}^{(m)}(x) - y^{(m)}) & \\dots & x_{n-1}^{(m)} \\cdot (h_{\\theta}^{(m)}(x) - y^{(m)}) \\\\\n",
    "\\end{bmatrix} = \n",
    "\\begin{bmatrix} \n",
    "\\theta_0^{(1)} & \\theta_1^{(1)} & \\dots & \\theta_n^{(1)} \\\\\n",
    "\\theta_0^{(2)} & \\theta_1^{(2)} & \\dots & \\theta_n^{(2)} \\\\\n",
    "\\dots \\\\\n",
    "\\theta_0^{(m)} & \\theta_1^{(m)} & \\dots & \\theta_n^{(m)} \\\\\n",
    "\\end{bmatrix}$\n",
    "\n",
    "Notaţia $\\odot$ (produs Hadamard) e puţin forţată, pentru că în fapt se face broadcast pe linii.\n",
    "\n",
    "Mai departe, se face average între linii (axis = 0, coloanele rămân), şi se obţine vectorul $[ \\theta_0, \\theta_1, \\dots \\theta_n]$.\n",
    "\n"
   ]
  },
  {
   "cell_type": "code",
   "execution_count": 69,
   "metadata": {},
   "outputs": [
    {
     "name": "stdout",
     "output_type": "stream",
     "text": [
      "h =\n",
      " [[37.59823444]\n",
      " [28.11263892]]\n",
      "y =\n",
      " [[0]\n",
      " [1]]\n"
     ]
    }
   ],
   "source": [
    "y = np.array([[0], [1]])\n",
    "print(\"h =\\n\", h)\n",
    "print(\"y =\\n\", y)"
   ]
  },
  {
   "cell_type": "code",
   "execution_count": 70,
   "metadata": {},
   "outputs": [
    {
     "data": {
      "text/plain": [
       "array([[ 32.35543668,  83.50999059, 142.97806619, 134.66454449]])"
      ]
     },
     "execution_count": 70,
     "metadata": {},
     "output_type": "execute_result"
    }
   ],
   "source": [
    "# varianta cu \"for\"-uri\n",
    "m, n = x.shape\n",
    "upd = np.zeros(x.shape)\n",
    "for i in range(m):\n",
    "    for j in range(n):\n",
    "        upd[i, j] = (h[i, 0] - y[i, 0]) * x[i, j]\n",
    "\n",
    "delta = np.zeros((1, n))\n",
    "for j in range(n):\n",
    "    for i in range(m):\n",
    "        delta[0, j] += upd[i, j]\n",
    "    delta[0, j] /= m\n",
    "        \n",
    "delta"
   ]
  },
  {
   "cell_type": "code",
   "execution_count": 71,
   "metadata": {},
   "outputs": [
    {
     "data": {
      "text/plain": [
       "array([ 32.35543668,  83.50999059, 142.97806619, 134.66454449])"
      ]
     },
     "execution_count": 71,
     "metadata": {},
     "output_type": "execute_result"
    }
   ],
   "source": [
    "# varianta vectorizata\n",
    "np.average((h - y) * x, axis = 0)"
   ]
  },
  {
   "cell_type": "markdown",
   "metadata": {},
   "source": [
    "## Notes: how to work with 3D tensors"
   ]
  },
  {
   "cell_type": "code",
   "execution_count": 72,
   "metadata": {},
   "outputs": [
    {
     "data": {
      "text/plain": [
       "array([ 3, 14, 33])"
      ]
     },
     "execution_count": 72,
     "metadata": {},
     "output_type": "execute_result"
    }
   ],
   "source": [
    "a = np.array([[1], [2], [3]])\n",
    "b = np.array([[1, 2], [3, 4], [5, 6]])\n",
    "np.sum(a * b, axis = 1)"
   ]
  },
  {
   "cell_type": "code",
   "execution_count": 73,
   "metadata": {},
   "outputs": [
    {
     "name": "stdout",
     "output_type": "stream",
     "text": [
      "[[1 2 3 4]\n",
      " [2 3 4 5]\n",
      " [3 4 5 6]]\n",
      "[[1 2]\n",
      " [3 4]\n",
      " [5 6]]\n"
     ]
    },
    {
     "data": {
      "text/plain": [
       "array([[[ 1,  2,  3,  4],\n",
       "        [ 2,  4,  6,  8]],\n",
       "\n",
       "       [[ 6,  9, 12, 15],\n",
       "        [ 8, 12, 16, 20]],\n",
       "\n",
       "       [[15, 20, 25, 30],\n",
       "        [18, 24, 30, 36]]])"
      ]
     },
     "execution_count": 73,
     "metadata": {},
     "output_type": "execute_result"
    }
   ],
   "source": [
    "a = np.array([[1, 2, 3, 4], [2, 3, 4, 5], [3, 4, 5, 6]])\n",
    "print(a)\n",
    "b = np.array([[1, 2], [3, 4], [5, 6]])\n",
    "print(b)\n",
    "a = a.reshape(3, 1, 4)\n",
    "b = b.reshape(3, 2, 1)\n",
    "r = a * b\n",
    "r"
   ]
  },
  {
   "cell_type": "code",
   "execution_count": 74,
   "metadata": {},
   "outputs": [
    {
     "data": {
      "text/plain": [
       "array([[22, 31, 40, 49],\n",
       "       [28, 40, 52, 64]])"
      ]
     },
     "execution_count": 74,
     "metadata": {},
     "output_type": "execute_result"
    }
   ],
   "source": [
    "np.sum(r, axis = 0)"
   ]
  },
  {
   "cell_type": "code",
   "execution_count": 76,
   "metadata": {},
   "outputs": [
    {
     "data": {
      "text/plain": [
       "array([[ 1,  2],\n",
       "       [ 6,  8],\n",
       "       [15, 18]])"
      ]
     },
     "execution_count": 76,
     "metadata": {},
     "output_type": "execute_result"
    }
   ],
   "source": [
    "r[:,:,0]"
   ]
  },
  {
   "cell_type": "code",
   "execution_count": 77,
   "metadata": {},
   "outputs": [
    {
     "name": "stdout",
     "output_type": "stream",
     "text": [
      "[[1 2]\n",
      " [3 4]] (2, 2)\n",
      "[[1]\n",
      " [2]] (2, 1)\n"
     ]
    },
    {
     "data": {
      "text/plain": [
       "array([[1, 2],\n",
       "       [6, 8]])"
      ]
     },
     "execution_count": 77,
     "metadata": {},
     "output_type": "execute_result"
    }
   ],
   "source": [
    "# situatia de calcul a produsului folosind broadcast\n",
    "import numpy as np\n",
    "a = np.array([[1, 2], [3, 4]])\n",
    "print(a, np.shape(a))\n",
    "b = np.array([[1], [2]])\n",
    "print(b, np.shape(b))\n",
    "a * b"
   ]
  },
  {
   "cell_type": "code",
   "execution_count": null,
   "metadata": {
    "collapsed": true
   },
   "outputs": [],
   "source": []
  }
 ],
 "metadata": {
  "kernelspec": {
   "display_name": "Python 3",
   "language": "python",
   "name": "python3"
  },
  "language_info": {
   "codemirror_mode": {
    "name": "ipython",
    "version": 3
   },
   "file_extension": ".py",
   "mimetype": "text/x-python",
   "name": "python",
   "nbconvert_exporter": "python",
   "pygments_lexer": "ipython3",
   "version": "3.6.2"
  }
 },
 "nbformat": 4,
 "nbformat_minor": 2
}
