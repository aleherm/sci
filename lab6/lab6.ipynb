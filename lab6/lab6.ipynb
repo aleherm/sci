{
 "cells": [
  {
   "cell_type": "code",
   "execution_count": 54,
   "metadata": {
    "collapsed": true
   },
   "outputs": [],
   "source": [
    "import numpy as np\n",
    "import matplotlib.pyplot as plt\n",
    "import csv\n",
    "import functools\n",
    "\n",
    "%matplotlib inline"
   ]
  },
  {
   "cell_type": "markdown",
   "metadata": {},
   "source": [
    "# Multilayer Neural Network"
   ]
  },
  {
   "cell_type": "markdown",
   "metadata": {},
   "source": [
    "Antrenarea unei retele neurale multi-strat presupune rabdare si un orizont larg de cunostinte. Este mai degraba \"black magic\" decat programare. Codul vostru poate fi perfect, insa reteaua nu invata nici de frica. Asa incat ati fost avertizati!\n",
    "\n",
    "Antrenarea cere o combinatie de pricepere, setare de parametri si initializare de ponderi. In cele ce urmeaza am sa incerc sa va ghidez in asa fel incat sa ajungeti la rezultatul final, si anume la o acuratete de test de peste 95%. \n",
    "\n",
    "Va rog neaparat sa cititi cartea lui Michael Nielsen, http://neuralnetworksanddeeplearning.com, pentru ca doar prin programare si suportul de curs nu veti reusi sa ajustati parametrii retelei. Trebuie sa intelegeti cum functioneaza reteaua pentru ca sa o puteti antrena cu succes.\n",
    "\n",
    "Un blog interesant este si https://mmlind.github.io/Simple_3-Layer_Neural_Network_for_MNIST_Handwriting_Recognition/; l-am folosit pentru setarea parametrilor, insa performantele obtinute sunt mai bune decat scrie acolo.\n",
    "\n",
    "Revin inca o data: ca sa antrenati reteaua cu succes trebuie sa:\n",
    " * scrieti codul fara erori;\n",
    " * initializati ponderile intr-un anumit fel;\n",
    " * folositi anumiti parametri de antrenare.\n",
    " \n",
    "Altfel RETEAUA NU INVATA."
   ]
  },
  {
   "cell_type": "code",
   "execution_count": 56,
   "metadata": {
    "collapsed": true
   },
   "outputs": [],
   "source": [
    "def load_dataset(file_name):\n",
    "    \"\"\"\n",
    "    Returns a list of dictionaries, each element of the list is an instance\n",
    "    \"\"\"\n",
    "    # ...\n",
    "    return dataset"
   ]
  },
  {
   "cell_type": "code",
   "execution_count": 57,
   "metadata": {
    "collapsed": true
   },
   "outputs": [],
   "source": [
    "def form_x_and_y(dataset):\n",
    "    \"\"\"\n",
    "    Forms the dataframe as numpy arrays from the given list of dictionaries\n",
    "    \"\"\"\n",
    "    # ...\n",
    "    return x, y"
   ]
  },
  {
   "cell_type": "code",
   "execution_count": 58,
   "metadata": {
    "collapsed": true
   },
   "outputs": [],
   "source": [
    "def normalize(x):\n",
    "    \"\"\"\n",
    "    Normalization means division by 255 -> values in [0, 1]\n",
    "    \"\"\"\n",
    "    return x / 255.0"
   ]
  },
  {
   "cell_type": "code",
   "execution_count": 59,
   "metadata": {
    "collapsed": true
   },
   "outputs": [],
   "source": [
    "def show_sample(data, label):\n",
    "    \"\"\"\n",
    "    Shows an instance as a 2D image\n",
    "    \"\"\"\n",
    "    # Make those columns into a array of 8-bits pixels\n",
    "    # The pixel intensity values are integers from 0 to 255\n",
    "    pixels = np.array(data, dtype='uint8')\n",
    "\n",
    "    # Reshape the array into 28 x 28 array (2-dimensional array)\n",
    "    n = int(np.sqrt(len(pixels)))\n",
    "    assert n**2 == len(pixels)\n",
    "    pixels = pixels.reshape(n, n)\n",
    "\n",
    "    # Plot\n",
    "    plt.title('Label is {label}'.format(label=label))\n",
    "    plt.imshow(pixels, cmap='gray')\n",
    "    plt.show()"
   ]
  },
  {
   "cell_type": "code",
   "execution_count": 60,
   "metadata": {
    "collapsed": true
   },
   "outputs": [],
   "source": [
    "def sigmoid(z):\n",
    "    return 1.0 / (1 + np.exp(-z))\n",
    "    #return np.tanh(z)\n",
    "\n",
    "# este posibil sa testam ca atat functia sigmoida cat si functia tanh() sunt calculate corect\n",
    "# folositi testul pentru ca altfel erorile sunt greu, daca nu imposibil de gasit!\n",
    "assert(sigmoid(0) == 0.5)\n",
    "\n",
    "\n",
    "def sigmoid_derivative(z):\n",
    "    return sigmoid(z) * (1 - sigmoid(z))\n",
    "    #return 1.0 - (np.tanh(z) ** 2)\n",
    "\n",
    "assert(sigmoid_derivative(0) == 0.25)\n",
    "# idem, faceti teste pentru tanh(). Valoarea tanh(0) trebuie sa fie 0.\n",
    "\n",
    "\n",
    "def softmax(z):\n",
    "    # ...\n",
    "\n",
    "# definiti testele pentru softmax si folositi-le\n",
    "assert(np.all(softmax( np.array([[5], [5]]) ) == np.array([[0.5], [0.5]])))\n",
    "assert(np.all(softmax( np.array([[0], [0]]) ) == np.array([[0.5], [0.5]])))\n",
    "assert(np.sum(softmax(np.array([[4], [2]]))) == 1.0)\n",
    "\n",
    "\n",
    "def one_hot(p, k):\n",
    "    \"\"\" One-hot encoding converteste o eticheta, de exemplu 7, in [0 0 0 0 0 0 0 1 0 0]\n",
    "        parametrul p este pozitia pe care se pune \"1\"\n",
    "        parametrul k este numarul total de clase (elemente in lista)\n",
    "        Am facut conventia ca one_hot sa intoarca o lista\n",
    "    \"\"\"\n",
    "    # ...\n",
    "    \n",
    "assert(one_hot(0, 2) == [1, 0])\n",
    "assert(one_hot(2, 4) == [0, 0, 1, 0])"
   ]
  },
  {
   "cell_type": "code",
   "execution_count": 34,
   "metadata": {
    "collapsed": true
   },
   "outputs": [],
   "source": [
    "# first, load the datasets\n",
    "train_set = load_dataset('mnist_train.csv')\n",
    "test_set = load_dataset('mnist_test.csv')"
   ]
  },
  {
   "cell_type": "code",
   "execution_count": 61,
   "metadata": {},
   "outputs": [
    {
     "data": {
      "image/png": "[encoded data removed]",
      "text/plain": [
       "<matplotlib.figure.Figure at 0xbac9a58>"
      ]
     },
     "metadata": {},
     "output_type": "display_data"
    }
   ],
   "source": [
    "# definiti numarul de clase\n",
    "k = 10\n",
    "\n",
    "x_train, y_train = form_x_and_y(train_set)\n",
    "assert np.shape(x_train) == (len(train_set), 28*28)\n",
    "assert np.shape(y_train) == (len(train_set), 1)\n",
    "\n",
    "y_train = np.array([one_hot(int(y), k) for y in y_train])\n",
    "assert np.shape(y_train) == (len(train_set), k)\n",
    "\n",
    "x_test, y_test = form_x_and_y(test_set)\n",
    "assert np.shape(x_test) == (len(test_set), 28*28)\n",
    "assert np.shape(y_test) == (len(test_set), 1)\n",
    "\n",
    "y_test = np.array([one_hot(int(y), k) for y in y_test])\n",
    "assert np.shape(y_test) == (len(test_set), k)\n",
    "\n",
    "# inspectati vizual un sample, sa fie ce va asteptati\n",
    "show_sample(x_train[1], y_train[1])\n",
    "\n",
    "x_train = normalize(x_train)\n",
    "x_test = normalize(x_test)"
   ]
  },
  {
   "cell_type": "code",
   "execution_count": 9,
   "metadata": {
    "collapsed": true
   },
   "outputs": [],
   "source": [
    "# la inceput, am folosit problema XOR ca sa antrenez o retea cu 3 straturi,\n",
    "# cu neuroni cu functie de activare sigmoida (inclusiv pe ultimul strat)\n",
    "# structura aleasa a fost cu functie de cost patratica (nu cross-entropy)\n",
    "# si cu neuroni cu functie de activare sigmoida\n",
    "# \n",
    "# rata de invatare a fost 4.0 si a trebuit sa fac in jur de 4000 de epoci, cu antrenare \n",
    "# de tip stochastic gradient descent (update dupa fiecare pattern), pana sa clasifice \n",
    "# cu acuratete de 100%\n",
    "#\n",
    "# in acest caz, setul de test este totuna cu setul de antrenare \n",
    "x_train = np.array([\n",
    "    [0.3, 0.3],\n",
    "    [0.7, 0.7],\n",
    "    [0.3, 0.7],\n",
    "    [0.7, 0.3]\n",
    "])\n",
    "y_train = np.array([\n",
    "    [0],\n",
    "    [0],\n",
    "    [1],\n",
    "    [1]\n",
    "])\n",
    "y_train = np.array([one_hot(int(x), 2) for x in y_train])"
   ]
  },
  {
   "cell_type": "code",
   "execution_count": 81,
   "metadata": {
    "collapsed": true
   },
   "outputs": [],
   "source": [
    "def assert_func(weights, biases, sizes):\n",
    "    \"\"\" Functia are rolul de a verifica corectitudinea arhitecturii retelei\n",
    "    \"\"\"\n",
    "    assert(len(biases) == len(weights))\n",
    "    assert(len(biases) == len(sizes) - 1)\n",
    "    assert(len(weights) == len(sizes) - 1)\n",
    "    for i in range(len(biases)):\n",
    "        assert(biases[i].shape[0] == sizes[i + 1])\n",
    "        assert(biases[i].shape[1] == 1)\n",
    "        assert(weights[i].shape[0] == sizes[i + 1])\n",
    "        assert(weights[i].shape[1] == sizes[i])"
   ]
  },
  {
   "cell_type": "code",
   "execution_count": 92,
   "metadata": {
    "collapsed": true
   },
   "outputs": [],
   "source": [
    "# sizes este o lista care pastreaza numarul de neuroni de pe fiecare strat, pornind de la intrare\n",
    "#sizes = [2, 3, 2] # pentru XOR \n",
    "sizes = [28 * 28, 100, 10]\n",
    "layers = len(sizes)\n",
    "\n",
    "# strategia aleasa a fost de a construi intai reteaua cu functii de activare sigmoida pentru XOR\n",
    "# pentru acest tip de retea, ponderile au fost initializate aleator (uniform) cu valori cuprinse intre -1 si 1\n",
    "\n",
    "# ulterior, functiile de activare au fost schimbate la tanh() cu exceptia celor de pe ultimul strat unde \n",
    "# s-a folosit softmax(), iar functia de cost a fost schimbata din patratul diferentei la cross-entropy\n",
    "\n",
    "# pentru aceasta strunctura, initializarea corecta in asa fel incat neuronii sa nu se satureze, este CRUCIALA\n",
    "# a se vedea http://neuralnetworksanddeeplearning.com/chap3.html#weight_initialization\n",
    "# daca nu initializati ponderile cum trebuie, puteti sa va confruntati cu situatia ca reteaua NU INVATA DELOC\n",
    "\n",
    "# deci puteti folosi initializarea asa cum este descrisa de Glorot in http://proceedings.mlr.press/v9/glorot10a/glorot10a.pdf?hc_location=ufi\n",
    "# (aveti link si la curs, [26] Xavier Glorot, Yoshua Bengio, \"Understanding the difficulty of training\n",
    "# deep feedforward neural networks\"). Puteti sa le initializati si cu valori mai mici decat este descris acolo, asta pare sa ajute.\n",
    "\n",
    "# for every layer, the bias vector has the same dimension as the number of neurons\n",
    "# ...\n",
    "\n",
    "# modul de lucru: scrieti o functie si verificati apoi ca functioneaza pe un pattern (pentru asta aveti XOR, ca sa puteti\n",
    "# urmari totul pas cu pas).\n",
    "# ATENTIE: nu scrieti tot codul deodatat fara sa verificati nimic decat la sfarsit; sigur nu va merge si eroarea va fi greu de gasit.\n",
    "\n",
    "# verificati corectitudinea arhitecturii construite\n",
    "assert_func(weights, biases, sizes)"
   ]
  },
  {
   "cell_type": "code",
   "execution_count": 93,
   "metadata": {},
   "outputs": [
    {
     "name": "stdout",
     "output_type": "stream",
     "text": [
      "9497\n",
      "9635\n",
      "9649\n",
      "9556\n",
      "9650\n",
      "9692\n",
      "9638\n",
      "9650\n",
      "9685\n",
      "9694\n",
      "9716\n",
      "9680\n",
      "9722\n",
      "9677\n",
      "9671\n",
      "9712\n",
      "9677\n",
      "9649\n",
      "9663\n",
      "9712\n",
      "9709\n",
      "9716\n",
      "9703\n",
      "9708\n",
      "9654\n",
      "9694\n",
      "9729\n",
      "9664\n",
      "9716\n",
      "9723\n"
     ]
    }
   ],
   "source": [
    "def feedforward(x, weights, biases):\n",
    "    \"\"\" Propagarea inainte folosind neuroni cu functie de activare sigmoida peste tot \"\"\"\n",
    "    # ...\n",
    "\n",
    "assert(feedforward(x_train[0], weights, biases).shape[0] == sizes[-1])\n",
    "\n",
    "\n",
    "def feedforward2(x, weights, biases):\n",
    "    \"\"\" Propagarea inainte folosind neuroni cu functie de activare softmax pe ultimul strat \"\"\"\n",
    "    # ...\n",
    "\n",
    "assert(feedforward2(x_train[0], weights, biases).shape[0] == sizes[-1])\n",
    "\n",
    "\n",
    "def error(x_set, y_set, weights, biases):\n",
    "    \"\"\" Calculeaza iesirea sub forma de one-hot encoding folosind feedforward(),\n",
    "        si o foloseste pentru a numara cate pattern-uri sunt antrenate corect\n",
    "    \"\"\"\n",
    "    # ...\n",
    "\n",
    "\n",
    "def error2(x_set, y_set, weights, biases):\n",
    "    \"\"\" Calculeaza iesirea sub forma de one-hot encoding folosind feedforward2()\n",
    "        si o foloseste pentru a numara cate pattern-uri sunt antrenate corect\n",
    "    \"\"\"\n",
    "    # ...\n",
    "\n",
    "\n",
    "def backprop(x, y, weights, biases, layers):\n",
    "    # for the forward pass, we would compute activations and nets (the z-s)\n",
    "    # for every layer, since we would use it in the backward pass (delta calculation)\n",
    "    ...\n",
    "\n",
    "    # for the cross-entropy function, be sure to change the activation\n",
    "    # and delta calculatios for the last layer\n",
    "    \n",
    "    # forward pass computes activations\n",
    "    ...\n",
    "        \n",
    "\n",
    "    # declare deltas for the backward pass\n",
    "    ...    \n",
    "    \n",
    "    # first do the computations for the last layer\n",
    "    \n",
    "    ...\n",
    "    \n",
    "    # start with the layer before last\n",
    "    ...\n",
    "            \n",
    "    return delta_w, delta_b\n",
    "\n",
    "\n",
    "def compute_batch(batch_x, batch_y, weights, biases, eta, lmbda, layers):    \n",
    "    \"\"\" Recomputes the weights and biases using only a batch \"\"\"\n",
    "    \"\"\" make use of the assert_func to verify the dimensionalities \"\"\"\n",
    "    delta_w = ...\n",
    "    delta_b = ...\n",
    "    assert_func(delta_w, delta_b, sizes)\n",
    "    \n",
    "    for ... :\n",
    "        dw, db = backprop(x, y, weights, biases, layers)\n",
    "        assert_func(dw, db, sizes)\n",
    "        delta_b = ...\n",
    "        delta_w = ...\n",
    "        assert_func(delta_w, delta_b, sizes)\n",
    "        \n",
    "    # here we have the update of the weights, computed using the learning rate eta,\n",
    "    # and the regularization factor lambda\n",
    "    # for starters, you can put lambda to 0 (for XOR problem, just to see it is working)\n",
    "    # anyway, you should choose a small lambda (< 0.01 or even smaller)\n",
    "    weights = ...\n",
    "    biases = ...\n",
    "    \n",
    "    # before returning, call the assert function\n",
    "    # after you are convinced the code is correct, comment out the asserts,\n",
    "    # because these incur great performance penalties\n",
    "    assert_func(weights, biases, sizes)\n",
    "    return weights, biases\n",
    "\n",
    "\n",
    "# for the MNIST, batch size is 10; for XOR, it is 1\n",
    "\n",
    "# For the XOR problem, be warned that the correct classification may be attained even only after more than 4000 epochs\n",
    "# eta = 4.0, epochs = 2000\n",
    "\n",
    "...\n",
    "\n",
    "for epoch in range(epochs):\n",
    "    perm = [i for i in range(x_train.shape[0])]\n",
    "    np.random.shuffle(perm)\n",
    "    \n",
    "    # generate batches\n",
    "    x_batches = ...\n",
    "    y_batches = ...\n",
    "\n",
    "    # run batches and change weights\n",
    "    for ... :\n",
    "        weights, biases = compute_batch(batch_x, batch_y, weights, biases, eta, lmbda, layers)\n",
    "    \n",
    "    ...\n",
    "    \n",
    "    print( error(x_test, y_test, weights, biases) )\n"
   ]
  },
  {
   "cell_type": "code",
   "execution_count": 94,
   "metadata": {},
   "outputs": [
    {
     "name": "stdout",
     "output_type": "stream",
     "text": [
      "Accuracy is 97.23%\n"
     ]
    },
    {
     "data": {
      "image/png": "[encoded data removed]",
      "text/plain": [
       "<matplotlib.figure.Figure at 0xa9aaa90>"
      ]
     },
     "metadata": {},
     "output_type": "display_data"
    }
   ],
   "source": [
    "print(\"Accuracy is %3.2f%%\" % (error(x_test, y_test, weights, biases) / 100))\n",
    "y = feedforward2(x_test[147], weights, biases)\n",
    "show_sample(x_test[147]*255, np.argmax(y))"
   ]
  },
  {
   "cell_type": "code",
   "execution_count": null,
   "metadata": {
    "collapsed": true
   },
   "outputs": [],
   "source": []
  }
 ],
 "metadata": {
  "kernelspec": {
   "display_name": "Python 3",
   "language": "python",
   "name": "python3"
  },
  "language_info": {
   "codemirror_mode": {
    "name": "ipython",
    "version": 3
   },
   "file_extension": ".py",
   "mimetype": "text/x-python",
   "name": "python",
   "nbconvert_exporter": "python",
   "pygments_lexer": "ipython3",
   "version": "3.6.2"
  }
 },
 "nbformat": 4,
 "nbformat_minor": 2
}
